{
 "nbformat": 4,
 "nbformat_minor": 0,
 "metadata": {
  "accelerator": "GPU",
  "colab": {
   "name": "style_mixing.ipynb",
   "private_outputs": true,
   "provenance": [],
   "collapsed_sections": [],
   "machine_shape": "hm",
   "include_colab_link": true
  },
  "kernelspec": {
   "display_name": "Python 3 (ipykernel)",
   "language": "python",
   "name": "python3"
  },
  "language_info": {
   "codemirror_mode": {
    "name": "ipython",
    "version": 3
   },
   "file_extension": ".py",
   "mimetype": "text/x-python",
   "name": "python",
   "nbconvert_exporter": "python",
   "pygments_lexer": "ipython3",
   "version": "3.8.10"
  }
 },
 "cells": [
  {
   "cell_type": "markdown",
   "metadata": {
    "id": "view-in-github",
    "colab_type": "text"
   },
   "source": [
    "<a href=\"https://colab.research.google.com/github/HomelyAi/stylegan2-ada/blob/main/style_mixing.ipynb\" target=\"_parent\"><img src=\"https://colab.research.google.com/assets/colab-badge.svg\" alt=\"Open In Colab\"/></a>"
   ]
  },
  {
   "cell_type": "code",
   "metadata": {
    "pycharm": {
     "name": "#%%\n"
    },
    "id": "Pt7jSHHuyjYh"
   },
   "source": [
    "!nvidia-smi -L"
   ],
   "execution_count": null,
   "outputs": []
  },
  {
   "cell_type": "code",
   "metadata": {
    "id": "oWjG909X5F3u"
   },
   "source": [
    "%tensorflow_version 1.x\n",
    "from IPython.display import display,Image as Image2"
   ],
   "execution_count": null,
   "outputs": []
  },
  {
   "cell_type": "code",
   "metadata": {
    "pycharm": {
     "name": "#%%\n"
    },
    "id": "eSugpP_uyjYk"
   },
   "source": [
    "!git clone https://github.com/vishnukool/stylegan2-ada.git\n",
    "%cd /content/stylegan2-ada\n",
    "!pip install awscli"
   ],
   "execution_count": null,
   "outputs": []
  },
  {
   "cell_type": "code",
   "metadata": {
    "id": "h0f5zHX_4f83"
   },
   "source": [
    "network_pkl = 'network-snapshot-009800.pkl'\n",
    "!aws s3 cp s3://homely-pretrained-models/$network_pkl ./"
   ],
   "execution_count": null,
   "outputs": []
  },
  {
   "cell_type": "code",
   "metadata": {
    "id": "VodNw1Sy1euh"
   },
   "source": [
    "from PIL import Image\n",
    "\n",
    "def showImages(images):\n",
    "  widths, heights = zip(*(i.size for i in images))\n",
    "\n",
    "  total_width = sum(widths)\n",
    "  max_height = max(heights)\n",
    "\n",
    "  new_im = Image.new('RGB', (total_width, max_height))\n",
    "\n",
    "  x_offset = 0\n",
    "  for im in images:\n",
    "    new_im.paste(im, (x_offset,0))\n",
    "    x_offset += im.size[0]\n",
    "\n",
    "  display(new_im)\n"
   ],
   "execution_count": null,
   "outputs": []
  },
  {
   "cell_type": "code",
   "metadata": {
    "id": "DnZR0qu0UJ0l"
   },
   "source": [
    "# -- Gray Traditional -- \n",
    "# https://www.ikea.com/gb/en/images/products/ektorp-2-seat-sofa__0818544_pe774475_s5.jpg\n",
    "# projectPath1 = 'data/a5.jpg'\n",
    "# outPath1 = 'out/a5'\n",
    "\n",
    "# -- Recessed Arm Pink -- \n",
    "# imageUrl = 'https://secure.img1-fg.wfcdn.com/im/41020583/resize-h900-w900%5Ecompr-r85/1069/106985690/Jonas+66.75%27%27+Recessed+Arm+Loveseat+with+Reversible+Cushions.jpg'\n",
    "# projectPath1 = 'data/a6.jpg'\n",
    "# outPath1 = 'out/a6'\n",
    "\n",
    "# -- Pillow top Arm -- \n",
    "# imageUrl = 'https://secure.img1-fg.wfcdn.com/im/98861474/resize-h310-w310%5Ecompr-r85/1456/145637496/52.75%27%27+Faux+Leather+Pillow+Top+Arm+Reclining.jpg'\n",
    "# projectPath1 = 'data/a7.jpg'\n",
    "# outPath1 = 'out/a7'\n",
    "\n",
    "# -- Gray Modern -- \n",
    "# imageUrl = 'https://www.boconcept.com/on/demandware.static/-/Sites-master-catalog/default/dw7429ad62/images/710000/719958.jpg'\n",
    "# projectPath1 = 'data/a8.jpg'\n",
    "# outPath1 = 'out/a8'\n",
    "\n",
    "#  -- White Cushy -- \n",
    "# imageUrl = 'https://i.imgur.com/dweqIyf.jpg'\n",
    "# projectPath1 = 'data/a9.jpg'\n",
    "# outPath1 = 'out/a9'\n",
    "\n",
    "# -- Orange Leather Apt Therapy -- \n",
    "# imageUrl = 'https://i.imgur.com/C9hZKgN.jpg'\n",
    "# projectPath1 = 'data/a10.jpg'\n",
    "# outPath1 = 'out/a10'\n",
    "\n",
    "# -- Black Leathery -- \n",
    "# imageUrl = 'https://encrypted-tbn0.gstatic.com/images?q=tbn:ANd9GcSFKW8GkZjfjqVYto6-C8m-6DiwTNeYF2C-8RAgrPq8Au1EUlQkl0Yzs1ycgYILOVXBb6KWNTo&usqp=CAc'\n",
    "# projectPath1 = 'data/a11.jpg'\n",
    "# outPath1 = 'out/a11'\n",
    "\n",
    "# ----\n",
    "\n",
    "# -- Recessed Arm -- \n",
    "# imageUrl = 'https://secure.img1-fg.wfcdn.com/im/23871536/resize-h800-w800%5Ecompr-r85/8461/84611427/Cheeky+49.5%27%27+Recessed+Arm+Loveseat.jpg'\n",
    "# projectPath1 = 'data/a12.jpg'\n",
    "# outPath1 = 'out/a12'\n",
    "\n",
    "# -- Recessed Arm 2 -- \n",
    "# imageUrl = 'https://secure.img1-fg.wfcdn.com/im/53536085/resize-h310-w310%5Ecompr-r85/5520/55205111/default_name.jpg'\n",
    "# projectPath1 = 'data/a13.jpg'\n",
    "# outPath1 = 'out/a13'\n",
    "\n",
    "# -- Recessed Arm 3 -- \n",
    "# imageUrl = 'https://secure.img1-fg.wfcdn.com/im/65284946/resize-h310-w310%5Ecompr-r85/9910/99107984/Abbott+78%27%27+Recessed+Arm+Sofa.jpg'\n",
    "# projectPath1 = 'data/a14.jpg'\n",
    "# outPath1 = 'out/a14'\n",
    "\n",
    "# -- Wayfair Dark Blue -- \n",
    "# imageUrl = 'https://secure.img1-fg.wfcdn.com/im/67481968/resize-h800-w800%5Ecompr-r85/1175/117510521/56.69%27%27+Recessed+Arm+Loveseat.jpg'\n",
    "# projectPath1 = 'data/a15.jpg'\n",
    "# outPath1 = 'out/a15'\n",
    "\n",
    "# -- Single Seat Gray -- \n",
    "# imageUrl = 'https://loveseat.mx/media/catalog/product/l/o/love_seat_skara_quantum_ash_1.png'\n",
    "# projectPath1 = 'data/a16.jpg'\n",
    "# outPath1 = 'out/a16'\n",
    "\n",
    "# -- Yellow -- \n",
    "# imageUrl = 'https://encrypted-tbn0.gstatic.com/images?q=tbn:ANd9GcTvY7t9efXRvQ0Dv5btk8-6g9EtL-N8uTeGng&usqp=CAU'\n",
    "# projectPath1 = 'data/a17.jpg'\n",
    "# outPath1 = 'out/a17'\n",
    "\n",
    "# -- Blue Tufted, trouble tufting -- \n",
    "# imageUrl = 'https://cdn.shopify.com/s/files/1/2660/5202/products/shopify-image_a6fa3eb1-c388-4ce9-a914-c9ea3e4384cf_1400x.jpg?v=1614976781'\n",
    "# projectPath1 = 'data/a18.jpg'\n",
    "# outPath1 = 'out/a18'\n",
    "\n",
    "# -- Gray Love Seat with Pillows --\n",
    "# imageUrl = 'https://images.furnituredealer.net/img/products%2Fbenchcraft%2Fcolor%2Fmercado_8460435-b1.jpg'\n",
    "# projectPath1 = 'data/a19.jpg'\n",
    "# outPath1 = 'out/a19'\n",
    "\n",
    "# -- Wayfair Traditional bench seat -- \n",
    "# imageUrl = 'https://secure.img1-fg.wfcdn.com/im/34805391/resize-h800-w800%5Ecompr-r85/5279/52791200/Cali+49.5%27%27+Loveseat.jpg'\n",
    "# projectPath1 = 'data/a20.jpg'\n",
    "# outPath1 = 'out/a20'\n",
    "\n",
    "# -- Wayfair Flared Arm -- \n",
    "# imageUrl = 'https://secure.img1-fg.wfcdn.com/im/83196554/resize-h900-w900%5Ecompr-r85/4293/42930166/Erinn+67.25%27%27+Flared+Arm+Loveseat.jpg'\n",
    "# projectPath1 = 'data/a21.jpg'\n",
    "# outPath1 = 'out/a21'\n",
    "\n",
    "# -- Armless -- \n",
    "# imageUrl = 'https://secure.img1-fg.wfcdn.com/im/89601253/resize-h800-w800%5Ecompr-r85/4277/42778262/Valeria+55.1%27%27+Armless+Loveseat.jpg'\n",
    "# projectPath1 = 'data/a22.jpg'\n",
    "# outPath1 = 'out/a22'\n",
    "\n",
    "# -- Single Seat but shows 2 seats -- \n",
    "# imageUrl = 'https://i.imgur.com/wBkyw6l.jpg'\n",
    "# projectPath1 = 'data/a23.jpg'\n",
    "# outPath1 = 'out/a23'\n",
    "\n",
    "# -- Double Cushion Arm problem -- \n",
    "# imageUrl = 'https://moblum.com/media/catalog/product/cache/dc1ae9f78f90a12f86cb0d1e3aec3fb2/s/a/sal54325s1-ruan-gris-obscuro-love_seat-01_1.jpg'\n",
    "# projectPath1 = 'data/a24.jpg'\n",
    "# outPath1 = 'out/a24'\n",
    "\n",
    "# -- Asymmetric pillow top arm -- \n",
    "# imageUrl = 'https://mueblesmexico.com/wp-content/uploads/2020/06/Love-Seat-Acord-Warest-Silver.jpg'\n",
    "# projectPath1 = 'data/a25.jpg'\n",
    "# outPath1 = 'out/a25'\n",
    "\n",
    "# -- Sloping Arm, single seat problem -- \n",
    "# imageUrl = 'https://mueblesmexico.com/wp-content/uploads/2020/06/Love-Seat-Alicia-Curri-Demin.jpg'\n",
    "# projectPath1 = 'data/a27.jpg'\n",
    "# outPath1 = 'out/a27'\n",
    "\n",
    "# -- Pillow Arm problem\n",
    "# imageUrl = 'https://cdn1.coppel.com/images/catalog/pm/4237953-3.jpg'\n",
    "# projectPath1 = 'data/a28.jpg'\n",
    "# outPath1 = 'out/a28'\n",
    "\n",
    "# -- Heavy tuft and arm \n",
    "# imageUrl = 'https://mueblesmexico.com/wp-content/uploads/2020/06/Love-Seat-Bronx-Velvet-Mustard.jpg'\n",
    "# projectPath1 = 'data/a29.jpg'\n",
    "# outPath1 = 'out/a29'\n",
    "\n",
    "# -- No Idea why --\n",
    "# imageUrl = 'https://cdn1.coppel.com/images/catalog/pm/4767593-3.jpg'\n",
    "# projectPath1 = 'data/a30.jpg'\n",
    "# outPath1 = 'out/a30'\n",
    "\n",
    "# -- Single seat, sloping arm --\n",
    "# imageUrl = 'https://mueblesmexico.com/wp-content/uploads/2020/06/Love-Seat-Gandhi-Curri-Demin.jpg'\n",
    "# projectPath1 = 'data/a31.jpg'\n",
    "# outPath1 = 'out/a31'\n",
    "\n",
    "# -- Multi pillow problem --\n",
    "# imageUrl = 'https://d3uq4j19mzp2q8.cloudfront.net/media/catalog/product/cache/16/image/1200x590/9df78eab33525d08d6e5fb8d27136e95/s/a/sal69587k1-c-f-1-w_1.jpg'\n",
    "# projectPath1 = 'data/a32.jpg'\n",
    "# outPath1 = 'out/a32'\n",
    "\n",
    "# ------------------ ROTATOIN IMAGES --------------------------------\n",
    "\n",
    "# https://images-na.ssl-images-amazon.com/images/I/61gWcr%2BtWYL._SP1017,567,0%7C518vFSohJkL.jpg,61qEo-+QkUL.jpg,61ysawsCBXL.jpg,51MboY31LXL.jpg,61rRd195GGL.jpg_.jpg\n",
    "# projectPath1 = 'data/b1.jpg'\n",
    "# outPath1 = 'out/b1'\n",
    "\n",
    "# https://www.amazon.com/Versatile-Modern-Storage-Loveseat-Charcoal/dp/B072LT9YC3/ref=sxin_12_ac_d_rm?ac_md=1-1-YXJtbGVzcyBsb3Zlc2VhdA%3D%3D-ac_d_rm_rm_rm&cv_ct_cx=armless+sofa&dchild=1&keywords=armless+sofa&pd_rd_i=B072LT9YC3&pd_rd_r=d8e2d496-4a0f-4955-994d-03b1349e4f0c&pd_rd_w=YdWrj&pd_rd_wg=e1RPV&pf_rd_p=bdf723b2-f1c3-4d1c-967e-60197e162550&pf_rd_r=T2A173RHSM9XN3WPVFCS&psc=1&qid=1627955380&sr=1-2-12d4272d-8adb-4121-8624-135149aa9081\n",
    "# projectPath1 = 'data/b2.jpg'\n",
    "# outPath1 = 'out/b2'\n",
    "\n",
    "# The above link stretched to make it longer\n",
    "# projectPath1 = 'data/b5.jpg'\n",
    "# outPath1 = 'out/b5'\n",
    "\n",
    "# https://www.wayfair.com/furniture/pdp/hashtag-home-valeria-551-armless-loveseat-w004143937.html\n",
    "# projectPath1 = 'data/b9.jpg'\n",
    "# outPath1 = 'out/b9'\n",
    "\n",
    "# https://www.amazon.com/POLY-BARK-Napa-Variation-Cognac/dp/B07QPQCQKQ/ref=sxin_13_ac_d_rm?ac_md=3-1-bGVhdGhlciBzb2Zh-ac_d_rm_rm_rm&cv_ct_cx=sofa&dchild=1&keywords=sofa&pd_rd_i=B07QPQCQKQ&pd_rd_r=df1a7480-5af0-4909-ab06-cdf21b4eb431&pd_rd_w=PhGXb&pd_rd_wg=Y1fba&pf_rd_p=bdf723b2-f1c3-4d1c-967e-60197e162550&pf_rd_r=24ZDVCWSW4VA3N8XVHJN&psc=1&qid=1628008261&sr=1-2-12d4272d-8adb-4121-8624-135149aa9081\n",
    "# projectPath1 = 'data/c1.jpg'\n",
    "# outPath1 = 'out/c1'\n",
    "\n",
    "# https://www.amazon.com/Zinus-Classic-Upholstered-Living-Couch/dp/B079PP84CC/ref=sr_1_5?dchild=1&keywords=sofa&qid=1628008831&s=home-garden&sr=1-5\n",
    "# Side View\n",
    "# projectPath1 = 'data/c2.jpg'\n",
    "# outPath1 = 'out/c2'\n",
    "\n",
    "projectPath1 = 'data/c4.jpg'\n",
    "outPath1 = 'out/c4'"
   ],
   "execution_count": null,
   "outputs": []
  },
  {
   "cell_type": "code",
   "metadata": {
    "id": "eUapTeYi4PsD"
   },
   "source": [
    "!python projector.py --outdir=$outPath1 --target=$projectPath1 --save-video=False --network=./network-snapshot-009800.pkl\n",
    "\n",
    "showImages([Image.open('./' + outPath1+'/target.png'), Image.open('./' + outPath1+'/proj.png')])"
   ],
   "execution_count": null,
   "outputs": []
  },
  {
   "cell_type": "code",
   "metadata": {
    "id": "rgvLEOhh-kDA"
   },
   "source": [
    "import dnnlib\n",
    "import dnnlib.tflib as tflib\n",
    "import pickle\n",
    "import numpy as np\n",
    "from PIL import Image\n",
    "\n",
    "Gs_syn_kwargs = {\n",
    "    'output_transform': dict(func=tflib.convert_images_to_uint8, nchw_to_nhwc=True),\n",
    "    'randomize_noise': False,\n",
    "    'minibatch_size': 4\n",
    "}\n",
    "tflib.init_tf()\n",
    "with dnnlib.util.open_url(network_pkl) as fp:\n",
    "  _G, _D, Gs = pickle.load(fp)\n",
    "\n",
    "angleLatentPath = 'out/a27'\n",
    "styleLatentPath = 'out/c3'\n",
    "\n",
    "# display(Image2(filename='./' + angleLatentPath+'/proj.png'))\n",
    "# display(Image2(filename='./' + styleLatentPath+'/proj.png'))\n",
    "\n",
    "with np.load(angleLatentPath + '/dlatents.npz') as latent1:\n",
    "  with np.load(styleLatentPath + '/dlatents.npz') as latent2:\n",
    "    lat1 = latent1['dlatents']\n",
    "    lat2 = latent2['dlatents']\n",
    "    col_styles = [3,4,5,6,7,8,9,10,11,12,13]\n",
    "    lat1[0][col_styles] = lat2[0][col_styles]\n",
    "    image = Gs.components.synthesis.run(lat1, **Gs_syn_kwargs)[0]\n",
    "\n",
    "    mixImg = Image.fromarray(image, 'RGB')\n",
    "    showImages([Image.open('./' + angleLatentPath+'/proj.png'),Image.open('./' + styleLatentPath+'/proj.png') ,mixImg])\n"
   ],
   "execution_count": null,
   "outputs": []
  }
 ]
}